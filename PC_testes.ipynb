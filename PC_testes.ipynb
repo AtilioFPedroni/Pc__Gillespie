{
 "cells": [
  {
   "cell_type": "markdown",
   "metadata": {
    "colab_type": "text",
    "id": "view-in-github"
   },
   "source": [
    "<a href=\"https://colab.research.google.com/github/AtilioFPedroni/Pc__Gillespie/blob/main/PC_Gelispe_.ipynb\" target=\"_parent\"><img src=\"https://colab.research.google.com/assets/colab-badge.svg\" alt=\"Open In Colab\"/></a>"
   ]
  },
  {
   "cell_type": "code",
   "execution_count": 71,
   "metadata": {},
   "outputs": [],
   "source": [
    "!pip install -q networkx matplotlib numpy pandas"
   ]
  },
  {
   "cell_type": "code",
   "execution_count": 2,
   "metadata": {
    "id": "DQ92pW5aJtN6"
   },
   "outputs": [],
   "source": [
    "import networkx as nx\n",
    "import matplotlib.pyplot as plt\n",
    "import numpy as np\n",
    "\n",
    "rng = np.random.default_rng()"
   ]
  },
  {
   "cell_type": "code",
   "execution_count": 11,
   "metadata": {},
   "outputs": [
    {
     "data": {
      "text/plain": [
       "(578, [15, 8987])"
      ]
     },
     "execution_count": 11,
     "metadata": {},
     "output_type": "execute_result"
    }
   ],
   "source": [
    "a = [15,578,8987]\n",
    "\n",
    "retirou = a.pop(1)\n",
    "\n",
    "retirou, a"
   ]
  },
  {
   "cell_type": "code",
   "execution_count": 66,
   "metadata": {},
   "outputs": [],
   "source": [
    "def processo_contato(g, lista_inicial_de_infectados, beta, mu, tf):\n",
    "    \n",
    "    # condicao inicial\n",
    "    infectados = lista_inicial_de_infectados.copy()\n",
    "\n",
    "    estados = {vertice: 0 for vertice in g.nodes()}\n",
    "    \n",
    "    for infectado in infectados:\n",
    "        estados[infectado] = 1\n",
    "\n",
    "    t = [0.0]\n",
    "    n_infectados = [len(infectados)]\n",
    "\n",
    "    n_infectados_atual = len(infectados)\n",
    "\n",
    "    while t[-1] <= tf:\n",
    "\n",
    "        if n_infectados_atual == 0:\n",
    "            break\n",
    "\n",
    "        taxa_total = beta * len(infectados) + mu * len(infectados)\n",
    "\n",
    "        dt = -np.log(1.0 - rng.random()) / taxa_total\n",
    "\n",
    "        # definir qual processo vai acontecer\n",
    "        z = rng.random()\n",
    "        if (z < mu*len(infectados) / taxa_total):\n",
    "            # acontecer um processo de cura\n",
    "\n",
    "            posicao_do_infectado = rng.integers(0, len(infectados)) # escolhe um infectado ao acaso, na posicao da lista\n",
    "            infectado = infectados.pop(posicao_do_infectado) # retirar o infectado da lista\n",
    "\n",
    "            estados[infectado] = 0\n",
    "\n",
    "            n_infectados_atual -= 1\n",
    "\n",
    "        else: # é equivalente a fazer elseif (z < beta*len(infectados) / taxa_total + mu*len(infectados) / taxa_total)\n",
    "            # vai acontecer um processo de infecção\n",
    "\n",
    "            # escolher um infectado ao acaso\n",
    "            posicao_do_infectado = rng.integers(0, len(infectados)) # escolhe um infectado ao acaso, na posicao da lista\n",
    "\n",
    "            infectado = infectados[posicao_do_infectado]\n",
    "\n",
    "            # escolher um vizinho ao acaso\n",
    "            vizinho = rng.choice(list(g.neighbors(infectado))) # escolher um vizinho ao acaso\n",
    "\n",
    "            if estados[vizinho] == 0:\n",
    "                infectados.append(vizinho) # adiciona ele à lista\n",
    "                estados[vizinho] = 1\n",
    "\n",
    "                n_infectados_atual += 1\n",
    "            # caso contrário, nada é feito de diferente\n",
    "\n",
    "        t.append(t[-1] + dt)\n",
    "        n_infectados.append(n_infectados_atual)\n",
    "\n",
    "    return t, n_infectados"
   ]
  },
  {
   "cell_type": "code",
   "execution_count": 81,
   "metadata": {},
   "outputs": [
    {
     "data": {
      "text/plain": [
       "{0.1: [          t  n_infectados  beta  id_da_amostra\n",
       "  0  0.000000             1   0.1              0\n",
       "  1  0.045513             2   0.1              0\n",
       "  2  0.434174             1   0.1              0\n",
       "  3  0.671419             0   0.1              0],\n",
       " 1: [          t  n_infectados  beta  id_da_amostra\n",
       "  0  0.000000             1     1              0\n",
       "  1  0.344434             0     1              0],\n",
       " 1.5: [           t  n_infectados  beta  id_da_amostra\n",
       "  0   0.000000             1   1.5              0\n",
       "  1   0.031176             2   1.5              0\n",
       "  2   0.214417             3   1.5              0\n",
       "  3   0.330407             2   1.5              0\n",
       "  4   0.790037             2   1.5              0\n",
       "  5   1.030426             3   1.5              0\n",
       "  6   1.084215             2   1.5              0\n",
       "  7   1.499582             1   1.5              0\n",
       "  8   2.337474             2   1.5              0\n",
       "  9   2.871984             3   1.5              0\n",
       "  10  2.966905             3   1.5              0\n",
       "  11  2.993569             4   1.5              0\n",
       "  12  3.126255             4   1.5              0\n",
       "  13  3.457918             5   1.5              0\n",
       "  14  3.500356             4   1.5              0\n",
       "  15  3.740471             5   1.5              0\n",
       "  16  3.826859             5   1.5              0\n",
       "  17  3.935059             4   1.5              0\n",
       "  18  3.941297             3   1.5              0\n",
       "  19  4.107532             2   1.5              0\n",
       "  20  4.110360             1   1.5              0\n",
       "  21  4.288154             2   1.5              0\n",
       "  22  4.787342             1   1.5              0\n",
       "  23  5.351780             0   1.5              0],\n",
       " 3.29: [                t  n_infectados  beta  id_da_amostra\n",
       "  0        0.000000             1  3.29              0\n",
       "  1        0.116890             2  3.29              0\n",
       "  2        0.280804             2  3.29              0\n",
       "  3        0.294351             3  3.29              0\n",
       "  4        0.308966             3  3.29              0\n",
       "  ...           ...           ...   ...            ...\n",
       "  10936   99.951277            27  3.29              0\n",
       "  10937   99.955467            28  3.29              0\n",
       "  10938   99.976276            29  3.29              0\n",
       "  10939   99.999018            28  3.29              0\n",
       "  10940  100.013267            28  3.29              0\n",
       "  \n",
       "  [10941 rows x 4 columns]],\n",
       " 5: [                t  n_infectados  beta  id_da_amostra\n",
       "  0        0.000000             1     5              0\n",
       "  1        0.010770             2     5              0\n",
       "  2        0.010800             3     5              0\n",
       "  3        0.012924             4     5              0\n",
       "  4        0.020111             3     5              0\n",
       "  ...           ...           ...   ...            ...\n",
       "  37876   99.987291            73     5              0\n",
       "  37877   99.993243            74     5              0\n",
       "  37878   99.994941            74     5              0\n",
       "  37879   99.998826            74     5              0\n",
       "  37880  100.001874            74     5              0\n",
       "  \n",
       "  [37881 rows x 4 columns]]}"
      ]
     },
     "execution_count": 81,
     "metadata": {},
     "output_type": "execute_result"
    }
   ],
   "source": [
    "#%%timeit -n 1 -r 1\n",
    "def simulacao_1D(n, betas, mu=1.0, tf = 100, ni=1, n_amostras=1):\n",
    "    results = {}\n",
    "\n",
    "    G = nx.circulant_graph(n, [1])\n",
    "\n",
    "    for beta in betas:\n",
    "        results[beta] = []\n",
    "        for id_da_amostra in range(n_amostras):\n",
    "            lista_de_infectados_inicial = rng.choice(G.nodes(), size=ni).tolist()\n",
    "            t, n_infectados = processo_contato(G, lista_de_infectados_inicial, beta, mu, tf)\n",
    "\n",
    "            df = pd.DataFrame({'t': t, 'n_infectados': n_infectados})\n",
    "            df['beta'] = beta\n",
    "            df['id_da_amostra'] = id_da_amostra\n",
    "\n",
    "            results[beta].append(df)\n",
    "        results[beta] = pd.concat(results[beta])\n",
    "    results = pd.concat(results.values())\n",
    "    return results\n",
    "\n",
    "######################################  Parâmetros ##############################\n",
    "\n",
    "n = 100\n",
    "betas = [0.1, 1, 1.5, 3.29, 5]\n",
    "mu = 1.0\n",
    "tf = 100\n",
    "ni = 1\n",
    "\n",
    "results = simulacao_1D(n, betas, mu, tf, ni, n_amostras=1)\n",
    "\n",
    "results"
   ]
  },
  {
   "cell_type": "code",
   "execution_count": 83,
   "metadata": {},
   "outputs": [
    {
     "data": {
      "text/html": [
       "<div>\n",
       "<style scoped>\n",
       "    .dataframe tbody tr th:only-of-type {\n",
       "        vertical-align: middle;\n",
       "    }\n",
       "\n",
       "    .dataframe tbody tr th {\n",
       "        vertical-align: top;\n",
       "    }\n",
       "\n",
       "    .dataframe thead th {\n",
       "        text-align: right;\n",
       "    }\n",
       "</style>\n",
       "<table border=\"1\" class=\"dataframe\">\n",
       "  <thead>\n",
       "    <tr style=\"text-align: right;\">\n",
       "      <th></th>\n",
       "      <th>t</th>\n",
       "      <th>n_infectados</th>\n",
       "      <th>beta</th>\n",
       "      <th>id_da_amostra</th>\n",
       "    </tr>\n",
       "  </thead>\n",
       "  <tbody>\n",
       "    <tr>\n",
       "      <th>0</th>\n",
       "      <td>0.000000</td>\n",
       "      <td>1</td>\n",
       "      <td>0.1</td>\n",
       "      <td>0</td>\n",
       "    </tr>\n",
       "    <tr>\n",
       "      <th>1</th>\n",
       "      <td>0.045513</td>\n",
       "      <td>2</td>\n",
       "      <td>0.1</td>\n",
       "      <td>0</td>\n",
       "    </tr>\n",
       "    <tr>\n",
       "      <th>2</th>\n",
       "      <td>0.434174</td>\n",
       "      <td>1</td>\n",
       "      <td>0.1</td>\n",
       "      <td>0</td>\n",
       "    </tr>\n",
       "    <tr>\n",
       "      <th>3</th>\n",
       "      <td>0.671419</td>\n",
       "      <td>0</td>\n",
       "      <td>0.1</td>\n",
       "      <td>0</td>\n",
       "    </tr>\n",
       "  </tbody>\n",
       "</table>\n",
       "</div>"
      ],
      "text/plain": [
       "          t  n_infectados  beta  id_da_amostra\n",
       "0  0.000000             1   0.1              0\n",
       "1  0.045513             2   0.1              0\n",
       "2  0.434174             1   0.1              0\n",
       "3  0.671419             0   0.1              0"
      ]
     },
     "execution_count": 83,
     "metadata": {},
     "output_type": "execute_result"
    }
   ],
   "source": [
    "results[0.1][0]"
   ]
  },
  {
   "cell_type": "code",
   "execution_count": 74,
   "metadata": {},
   "outputs": [
    {
     "ename": "AttributeError",
     "evalue": "'DataFrame' object has no attribute 'append'",
     "output_type": "error",
     "traceback": [
      "\u001b[0;31m---------------------------------------------------------------------------\u001b[0m",
      "\u001b[0;31mAttributeError\u001b[0m                            Traceback (most recent call last)",
      "\u001b[0;32m/tmp/ipykernel_190662/854202526.py\u001b[0m in \u001b[0;36m?\u001b[0;34m()\u001b[0m\n\u001b[1;32m      4\u001b[0m \u001b[0mdf\u001b[0m \u001b[0;34m=\u001b[0m \u001b[0mpd\u001b[0m\u001b[0;34m.\u001b[0m\u001b[0mDataFrame\u001b[0m\u001b[0;34m(\u001b[0m\u001b[0mcolumns\u001b[0m\u001b[0;34m=\u001b[0m\u001b[0;34m[\u001b[0m\u001b[0;34m'beta'\u001b[0m\u001b[0;34m,\u001b[0m \u001b[0;34m'amostra'\u001b[0m\u001b[0;34m,\u001b[0m \u001b[0;34m't'\u001b[0m\u001b[0;34m,\u001b[0m \u001b[0;34m'n_infectados'\u001b[0m\u001b[0;34m]\u001b[0m\u001b[0;34m)\u001b[0m\u001b[0;34m\u001b[0m\u001b[0;34m\u001b[0m\u001b[0m\n\u001b[1;32m      5\u001b[0m \u001b[0;34m\u001b[0m\u001b[0m\n\u001b[1;32m      6\u001b[0m \u001b[0;32mfor\u001b[0m \u001b[0mbeta\u001b[0m\u001b[0;34m,\u001b[0m \u001b[0mlista_de_resultados\u001b[0m \u001b[0;32min\u001b[0m \u001b[0mresults\u001b[0m\u001b[0;34m.\u001b[0m\u001b[0mitems\u001b[0m\u001b[0;34m(\u001b[0m\u001b[0;34m)\u001b[0m\u001b[0;34m:\u001b[0m\u001b[0;34m\u001b[0m\u001b[0;34m\u001b[0m\u001b[0m\n\u001b[1;32m      7\u001b[0m     \u001b[0;32mfor\u001b[0m \u001b[0mid_da_amostra\u001b[0m\u001b[0;34m,\u001b[0m \u001b[0;34m(\u001b[0m\u001b[0mt\u001b[0m\u001b[0;34m,\u001b[0m \u001b[0mn_infectados\u001b[0m\u001b[0;34m)\u001b[0m \u001b[0;32min\u001b[0m \u001b[0menumerate\u001b[0m\u001b[0;34m(\u001b[0m\u001b[0mlista_de_resultados\u001b[0m\u001b[0;34m)\u001b[0m\u001b[0;34m:\u001b[0m\u001b[0;34m\u001b[0m\u001b[0;34m\u001b[0m\u001b[0m\n\u001b[0;32m----> 8\u001b[0;31m         \u001b[0mdf\u001b[0m \u001b[0;34m=\u001b[0m \u001b[0mdf\u001b[0m\u001b[0;34m.\u001b[0m\u001b[0mappend\u001b[0m\u001b[0;34m(\u001b[0m\u001b[0mpd\u001b[0m\u001b[0;34m.\u001b[0m\u001b[0mDataFrame\u001b[0m\u001b[0;34m(\u001b[0m\u001b[0;34m{\u001b[0m\u001b[0;34m'beta'\u001b[0m\u001b[0;34m:\u001b[0m \u001b[0mbeta\u001b[0m\u001b[0;34m,\u001b[0m \u001b[0;34m'amostra'\u001b[0m\u001b[0;34m:\u001b[0m \u001b[0mid_da_amostra\u001b[0m\u001b[0;34m,\u001b[0m \u001b[0;34m't'\u001b[0m\u001b[0;34m:\u001b[0m \u001b[0mt\u001b[0m\u001b[0;34m,\u001b[0m \u001b[0;34m'n_infectados'\u001b[0m\u001b[0;34m:\u001b[0m \u001b[0mn_infectados\u001b[0m\u001b[0;34m}\u001b[0m\u001b[0;34m)\u001b[0m\u001b[0;34m)\u001b[0m\u001b[0;34m\u001b[0m\u001b[0;34m\u001b[0m\u001b[0m\n\u001b[0m\u001b[1;32m      9\u001b[0m \u001b[0mdf\u001b[0m\u001b[0;34m\u001b[0m\u001b[0;34m\u001b[0m\u001b[0m\n",
      "\u001b[0;32m/data/repos/ufv/atilio/Pc__Gillespie/.venv/lib/python3.12/site-packages/pandas/core/generic.py\u001b[0m in \u001b[0;36m?\u001b[0;34m(self, name)\u001b[0m\n\u001b[1;32m   6295\u001b[0m             \u001b[0;32mand\u001b[0m \u001b[0mname\u001b[0m \u001b[0;32mnot\u001b[0m \u001b[0;32min\u001b[0m \u001b[0mself\u001b[0m\u001b[0;34m.\u001b[0m\u001b[0m_accessors\u001b[0m\u001b[0;34m\u001b[0m\u001b[0;34m\u001b[0m\u001b[0m\n\u001b[1;32m   6296\u001b[0m             \u001b[0;32mand\u001b[0m \u001b[0mself\u001b[0m\u001b[0;34m.\u001b[0m\u001b[0m_info_axis\u001b[0m\u001b[0;34m.\u001b[0m\u001b[0m_can_hold_identifiers_and_holds_name\u001b[0m\u001b[0;34m(\u001b[0m\u001b[0mname\u001b[0m\u001b[0;34m)\u001b[0m\u001b[0;34m\u001b[0m\u001b[0;34m\u001b[0m\u001b[0m\n\u001b[1;32m   6297\u001b[0m         \u001b[0;34m)\u001b[0m\u001b[0;34m:\u001b[0m\u001b[0;34m\u001b[0m\u001b[0;34m\u001b[0m\u001b[0m\n\u001b[1;32m   6298\u001b[0m             \u001b[0;32mreturn\u001b[0m \u001b[0mself\u001b[0m\u001b[0;34m[\u001b[0m\u001b[0mname\u001b[0m\u001b[0;34m]\u001b[0m\u001b[0;34m\u001b[0m\u001b[0;34m\u001b[0m\u001b[0m\n\u001b[0;32m-> 6299\u001b[0;31m         \u001b[0;32mreturn\u001b[0m \u001b[0mobject\u001b[0m\u001b[0;34m.\u001b[0m\u001b[0m__getattribute__\u001b[0m\u001b[0;34m(\u001b[0m\u001b[0mself\u001b[0m\u001b[0;34m,\u001b[0m \u001b[0mname\u001b[0m\u001b[0;34m)\u001b[0m\u001b[0;34m\u001b[0m\u001b[0;34m\u001b[0m\u001b[0m\n\u001b[0m",
      "\u001b[0;31mAttributeError\u001b[0m: 'DataFrame' object has no attribute 'append'"
     ]
    }
   ],
   "source": [
    "# dataframe com as colunas beta, amostra, t, n_infectados\n",
    "import pandas as pd\n",
    "\n",
    "df = pd.DataFrame(columns=['beta', 'amostra', 't', 'n_infectados'])\n",
    "\n",
    "for beta, lista_de_resultados in results.items():\n",
    "    for id_da_amostra, (t, n_infectados) in enumerate(lista_de_resultados):\n",
    "        df = df.append(pd.DataFrame({'beta': beta, 'amostra': id_da_amostra, 't': t, 'n_infectados': n_infectados}))\n",
    "df"
   ]
  },
  {
   "cell_type": "code",
   "execution_count": null,
   "metadata": {},
   "outputs": [],
   "source": [
    "# melhor usar o pandas\n",
    "import pandas as pd\n",
    "\n"
   ]
  }
 ],
 "metadata": {
  "colab": {
   "authorship_tag": "ABX9TyMkaXP9DsqTUEYajsivccxU",
   "include_colab_link": true,
   "provenance": []
  },
  "kernelspec": {
   "display_name": ".venv",
   "language": "python",
   "name": "python3"
  },
  "language_info": {
   "codemirror_mode": {
    "name": "ipython",
    "version": 3
   },
   "file_extension": ".py",
   "mimetype": "text/x-python",
   "name": "python",
   "nbconvert_exporter": "python",
   "pygments_lexer": "ipython3",
   "version": "3.12.7"
  }
 },
 "nbformat": 4,
 "nbformat_minor": 0
}
